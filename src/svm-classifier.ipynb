{
 "cells": [
  {
   "cell_type": "code",
   "execution_count": 1,
   "metadata": {},
   "outputs": [],
   "source": [
    "import os\n",
    "import torch\n",
    "from sklearn.svm import LinearSVC, SVC\n",
    "from sklearn.model_selection import train_test_split\n",
    "from imblearn.under_sampling import RandomUnderSampler\n",
    "import numpy as np\n",
    "import pandas as pd\n",
    "import matplotlib.pyplot as plt\n",
    "from Utils.niiparsing import load_nii\n",
    "import glob\n",
    "\n",
    "from Utils.argparsing import get_args\n",
    "from Preprocessing.data_init import organized_data_download\n",
    "from Preprocessing.data_loading import BratsDataset"
   ]
  },
  {
   "cell_type": "code",
   "execution_count": 2,
   "metadata": {},
   "outputs": [
    {
     "name": "stdout",
     "output_type": "stream",
     "text": [
      "(276599, 6)\n"
     ]
    }
   ],
   "source": [
    "if __name__ == \"__main__\":\n",
    "\n",
    "    data = BratsDataset()"
   ]
  },
  {
   "cell_type": "code",
   "execution_count": 3,
   "metadata": {},
   "outputs": [
    {
     "name": "stdout",
     "output_type": "stream",
     "text": [
      "17349\n",
      "17349\n",
      "\n",
      "7455\n",
      "7455\n",
      "\n"
     ]
    }
   ],
   "source": [
    "x_train, x_test, y_train, y_test = train_test_split(data.x, data.y, test_size=0.3, random_state=42)\n",
    "\n",
    "\n",
    "rus = RandomUnderSampler(sampling_strategy=1, random_state=42)\n",
    "x_train, y_train = rus.fit_resample(x_train, y_train)\n",
    "x_test, y_test = rus.fit_resample(x_test, y_test)\n",
    "\n",
    "def print_dis(arr):\n",
    "    \n",
    "    zeros = 0\n",
    "    ones = 0\n",
    "\n",
    "    for val in arr:\n",
    "        if val==0:\n",
    "            zeros+=1\n",
    "        elif val==1:\n",
    "            ones+=1\n",
    "\n",
    "    print(zeros)\n",
    "    print(ones)\n",
    "    print()\n",
    "\n",
    "print_dis(y_train)\n",
    "print_dis(y_test)"
   ]
  },
  {
   "cell_type": "code",
   "execution_count": 4,
   "metadata": {},
   "outputs": [
    {
     "data": {
      "text/plain": [
       "SVC(C=1.0, break_ties=False, cache_size=200, class_weight=None, coef0=0.0,\n",
       "    decision_function_shape='ovr', degree=3, gamma='scale', kernel='poly',\n",
       "    max_iter=-1, probability=False, random_state=42, shrinking=True, tol=0.001,\n",
       "    verbose=False)"
      ]
     },
     "execution_count": 4,
     "metadata": {},
     "output_type": "execute_result"
    }
   ],
   "source": [
    "svc = SVC(random_state=42, kernel='poly')\n",
    "svc.fit(x_train, y_train)"
   ]
  },
  {
   "cell_type": "code",
   "execution_count": 5,
   "metadata": {},
   "outputs": [
    {
     "name": "stdout",
     "output_type": "stream",
     "text": [
      "Dice coefficient is 0.788418\n"
     ]
    }
   ],
   "source": [
    "predictions = svc.predict(x_test).reshape(-1)\n",
    "y_test = y_test.reshape(-1)\n",
    "\n",
    "# Calculate dice coefficient\n",
    "dice = (2*np.sum(np.dot(predictions, y_test))) / (np.sum(y_test + predictions))\n",
    "\n",
    "print('Dice coefficient is %.6f' % dice)"
   ]
  },
  {
   "cell_type": "code",
   "execution_count": 6,
   "metadata": {},
   "outputs": [
    {
     "data": {
      "text/plain": [
       "0.7884327851026234"
      ]
     },
     "execution_count": 6,
     "metadata": {},
     "output_type": "execute_result"
    }
   ],
   "source": [
    "smooth=1.\n",
    "\n",
    "def dice_coef_numpy(y_true, y_pred):\n",
    "\n",
    "    y_true_f = y_true.flatten()\n",
    "    y_pred_f = y_pred.flatten()\n",
    "    intersection = np.sum(y_true_f * y_pred_f)\n",
    "    \n",
    "    return (2. * intersection + smooth) / (np.sum(y_true_f) + np.sum(y_pred_f) + smooth)\n",
    "\n",
    "dice_coef_numpy(y_test, predictions)"
   ]
  },
  {
   "cell_type": "code",
   "execution_count": 7,
   "metadata": {},
   "outputs": [
    {
     "data": {
      "text/plain": [
       "0.79121395036888"
      ]
     },
     "execution_count": 7,
     "metadata": {},
     "output_type": "execute_result"
    }
   ],
   "source": [
    "svc.score(x_test, y_test)"
   ]
  },
  {
   "cell_type": "code",
   "execution_count": 19,
   "metadata": {},
   "outputs": [],
   "source": [
    "import matplotlib.pyplot as plt\n",
    "%matplotlib inline\n",
    "\n",
    "def slice(x_path, y_path, depth):\n",
    "    # Ground Truth\n",
    "    x = load_nii(x_path)\n",
    "    y = load_nii(y_path)\n",
    "\n",
    "    plt.imshow(y[ : , : , depth], cmap='gray')\n",
    "    plt.title(\"Segmentation Mask\")\n",
    "    plt.show()\n",
    "\n",
    "    plt.imshow(x[ : , : , depth], cmap='gray')\n",
    "    plt.title(\"Slice\")\n",
    "    plt.show()\n",
    "\n",
    "    orig_shape = x.shape\n",
    "\n",
    "    y = y.reshape(-1)\n",
    "    x = x.reshape(-1)\n",
    "\n",
    "    for i, val in enumerate(y):\n",
    "        if val != 0:\n",
    "            x[i] = 1024\n",
    "\n",
    "    x = x.reshape(orig_shape)\n",
    "\n",
    "\n",
    "    plt.imshow(x[ : , : , depth], cmap='gray')\n",
    "    plt.title(\"Superimposed Mask\")\n",
    "    plt.show()\n",
    "\n",
    "    # Predictions\n",
    "    x = load_nii(x_path)\n",
    "    x = x / x.max()\n",
    "    x = np.pad(x, ((1, 1), (1, 1), (0, 0)), mode='constant')\n",
    "\n",
    "    windows = []\n",
    "\n",
    "\n",
    "    # Parameterizing sliding window\n",
    "    for row in range(0, x.shape[0] - 2):\n",
    "        for col in range(0, x.shape[1] - 2):\n",
    "\n",
    "            # Creating sliding window across slice\n",
    "            x_window = x[row : row + 3, col : col + 3, depth - 1 : depth + 2]\n",
    "\n",
    "            windows.append(np.array(x_window).reshape(-1))\n",
    "\n",
    "    inp = np.concatenate((\n",
    "                             np.mean(windows, axis=1).reshape(-1, 1), \n",
    "                             np.std(windows, axis=1).reshape(-1, 1), \n",
    "                             np.var(windows, axis=1).reshape(-1, 1),\n",
    "                             np.max(windows, axis=1).reshape(-1, 1),\n",
    "                             np.min(windows, axis=1).reshape(-1, 1),\n",
    "                             np.median(windows, axis=1).reshape(-1, 1)), axis=1)\n",
    "\n",
    "    preds = svc.predict(inp)\n",
    "    preds = preds.reshape(240, 240)\n",
    "    plt.imshow(preds[ : , : ], cmap='gray')\n",
    "    plt.title(\"Predicted Tumor\")\n",
    "    plt.show()\n",
    "\n",
    "    y = load_nii(y_path)\n",
    "    print(dice_coef_numpy(y[ : , : , depth].reshape(-1), preds.reshape(-1)))\n",
    "    print(svc.score(inp, np.array(y[ : , : , depth]).reshape(-1)))"
   ]
  },
  {
   "cell_type": "code",
   "execution_count": 29,
   "metadata": {},
   "outputs": [
    {
     "data": {
      "image/png": "[encoded data removed]",
      "text/plain": [
       "<Figure size 432x288 with 1 Axes>"
      ]
     },
     "metadata": {
      "needs_background": "light"
     },
     "output_type": "display_data"
    },
    {
     "data": {
      "image/png": "[encoded data removed]",
      "text/plain": [
       "<Figure size 432x288 with 1 Axes>"
      ]
     },
     "metadata": {
      "needs_background": "light"
     },
     "output_type": "display_data"
    },
    {
     "data": {
      "image/png": "[encoded data removed]",
      "text/plain": [
       "<Figure size 432x288 with 1 Axes>"
      ]
     },
     "metadata": {
      "needs_background": "light"
     },
     "output_type": "display_data"
    },
    {
     "name": "stdout",
     "output_type": "stream",
     "text": [
      "{0, 1}\n"
     ]
    },
    {
     "data": {
      "image/png": "[encoded data removed]",
      "text/plain": [
       "<Figure size 432x288 with 1 Axes>"
      ]
     },
     "metadata": {
      "needs_background": "light"
     },
     "output_type": "display_data"
    },
    {
     "name": "stdout",
     "output_type": "stream",
     "text": [
      "1.2671035805626598\n",
      "0.9688715277777777\n"
     ]
    },
    {
     "data": {
      "text/plain": [
       "'\\nfrom glob import glob\\n\\nfor x_path in glob(\"../organized_data/HGG/*flair.nii.gz\"):\\n    \\n    split = x_path.split(\\'flair\\')\\n    y_path = split[0] + \\'seg\\' + split[1]\\n'"
      ]
     },
     "execution_count": 29,
     "metadata": {},
     "output_type": "execute_result"
    }
   ],
   "source": [
    "x_path = '../organized_data/HGG/BraTS19_2013_10_1_flair.nii.gz'\n",
    "y_path = '../organized_data/HGG/BraTS19_2013_10_1_seg.nii.gz'\n",
    "depth = 80\n",
    "\n",
    "slice(x_path, y_path, depth)\n",
    "\n",
    "\"\"\"\n",
    "from glob import glob\n",
    "\n",
    "for x_path in glob(\"../organized_data/HGG/*flair.nii.gz\"):\n",
    "    \n",
    "    split = x_path.split('flair')\n",
    "    y_path = split[0] + 'seg' + split[1]\n",
    "\"\"\"\n",
    "\n",
    "# Intensity equalization, contrast"
   ]
  },
  {
   "cell_type": "code",
   "execution_count": 21,
   "metadata": {},
   "outputs": [],
   "source": [
    "import matplotlib.pyplot as plt\n",
    "from Utils.niiparsing import load_nii\n",
    "import nibabel\n",
    "\n",
    "def remove_keymap_conflicts(new_keys_set):\n",
    "    for prop in plt.rcParams:\n",
    "        if prop.startswith('keymap.'):\n",
    "            keys = plt.rcParams[prop]\n",
    "            remove_list = set(keys) & new_keys_set\n",
    "            for key in remove_list:\n",
    "                keys.remove(key)\n",
    "                \n",
    "def slice_viewer(volume, volume2):\n",
    "    remove_keymap_conflicts({'j', 'k'})\n",
    "    fig, ax = plt.subplots(nrows=1, ncols=2)\n",
    "    ax[0].volume = volume\n",
    "    ax[0].index = volume.shape[0] // 2\n",
    "    ax[0].imshow(volume[ax[0].index])\n",
    "    ax[0].set_title('Ground Truth')\n",
    "    ax[1].volume = volume2\n",
    "    ax[1].index = volume2.shape[0] // 2\n",
    "    ax[1].imshow(volume2[ax[1].index])\n",
    "    ax[1].set_title('Prediction')\n",
    "    fig.canvas.mpl_connect('key_press_event', process_key)\n",
    "\n",
    "def process_key(event):\n",
    "    fig = event.canvas.figure\n",
    "    ax, ax2 = fig.axes[0], fig.axes[1]\n",
    "    if event.key == 'j':\n",
    "        previous_slice(ax)\n",
    "        previous_slice(ax2)\n",
    "    elif event.key == 'k':\n",
    "        next_slice(ax)\n",
    "        next_slice(ax2)\n",
    "    fig.canvas.draw()\n",
    "\n",
    "def previous_slice(ax):\n",
    "    #Go to the previous slice.\n",
    "    volume = ax.volume\n",
    "    ax.index = (ax.index - 3) % volume.shape[0] \n",
    "    ax.images[0].set_array(volume[ax.index])\n",
    "\n",
    "def next_slice(ax):\n",
    "    #Go to the next slice.\n",
    "    volume = ax.volume\n",
    "    ax.index = (ax.index + 3) % volume.shape[0]\n",
    "    ax.images[0].set_array(volume[ax.index])\n",
    "    \n",
    "def show_tumors(img, seg):\n",
    "    for depth in range(seg.shape[2]):\n",
    "        for height in range(seg.shape[0]):\n",
    "            for width in range(seg.shape[1]):\n",
    "                if seg[height][width][depth] != 0:\n",
    "                    img[height][width][depth] = 700"
   ]
  },
  {
   "cell_type": "code",
   "execution_count": 26,
   "metadata": {},
   "outputs": [
    {
     "ename": "IndexError",
     "evalue": "tuple index out of range",
     "output_type": "error",
     "traceback": [
      "\u001b[0;31m---------------------------------------------------------------------------\u001b[0m",
      "\u001b[0;31mIndexError\u001b[0m                                Traceback (most recent call last)",
      "\u001b[0;32m<ipython-input-26-05de126f4720>\u001b[0m in \u001b[0;36m<module>\u001b[0;34m\u001b[0m\n\u001b[1;32m     30\u001b[0m \u001b[0;34m\u001b[0m\u001b[0m\n\u001b[1;32m     31\u001b[0m \u001b[0mshow_tumors\u001b[0m\u001b[0;34m(\u001b[0m\u001b[0mimg\u001b[0m\u001b[0;34m,\u001b[0m \u001b[0mseg\u001b[0m\u001b[0;34m)\u001b[0m\u001b[0;34m\u001b[0m\u001b[0;34m\u001b[0m\u001b[0m\n\u001b[0;32m---> 32\u001b[0;31m \u001b[0mshow_tumors\u001b[0m\u001b[0;34m(\u001b[0m\u001b[0mimg\u001b[0m\u001b[0;34m,\u001b[0m \u001b[0mimg_predict\u001b[0m\u001b[0;34m)\u001b[0m\u001b[0;34m\u001b[0m\u001b[0;34m\u001b[0m\u001b[0m\n\u001b[0m\u001b[1;32m     33\u001b[0m \u001b[0;34m\u001b[0m\u001b[0m\n\u001b[1;32m     34\u001b[0m \u001b[0mslice_viewer\u001b[0m\u001b[0;34m(\u001b[0m\u001b[0mimg\u001b[0m\u001b[0;34m,\u001b[0m \u001b[0mimg_predict\u001b[0m\u001b[0;34m)\u001b[0m\u001b[0;34m\u001b[0m\u001b[0;34m\u001b[0m\u001b[0m\n",
      "\u001b[0;32m<ipython-input-21-f996453d40c8>\u001b[0m in \u001b[0;36mshow_tumors\u001b[0;34m(img, seg)\u001b[0m\n\u001b[1;32m     48\u001b[0m \u001b[0;34m\u001b[0m\u001b[0m\n\u001b[1;32m     49\u001b[0m \u001b[0;32mdef\u001b[0m \u001b[0mshow_tumors\u001b[0m\u001b[0;34m(\u001b[0m\u001b[0mimg\u001b[0m\u001b[0;34m,\u001b[0m \u001b[0mseg\u001b[0m\u001b[0;34m)\u001b[0m\u001b[0;34m:\u001b[0m\u001b[0;34m\u001b[0m\u001b[0;34m\u001b[0m\u001b[0m\n\u001b[0;32m---> 50\u001b[0;31m     \u001b[0;32mfor\u001b[0m \u001b[0mdepth\u001b[0m \u001b[0;32min\u001b[0m \u001b[0mrange\u001b[0m\u001b[0;34m(\u001b[0m\u001b[0mseg\u001b[0m\u001b[0;34m.\u001b[0m\u001b[0mshape\u001b[0m\u001b[0;34m[\u001b[0m\u001b[0;36m2\u001b[0m\u001b[0;34m]\u001b[0m\u001b[0;34m)\u001b[0m\u001b[0;34m:\u001b[0m\u001b[0;34m\u001b[0m\u001b[0;34m\u001b[0m\u001b[0m\n\u001b[0m\u001b[1;32m     51\u001b[0m         \u001b[0;32mfor\u001b[0m \u001b[0mheight\u001b[0m \u001b[0;32min\u001b[0m \u001b[0mrange\u001b[0m\u001b[0;34m(\u001b[0m\u001b[0mseg\u001b[0m\u001b[0;34m.\u001b[0m\u001b[0mshape\u001b[0m\u001b[0;34m[\u001b[0m\u001b[0;36m0\u001b[0m\u001b[0;34m]\u001b[0m\u001b[0;34m)\u001b[0m\u001b[0;34m:\u001b[0m\u001b[0;34m\u001b[0m\u001b[0;34m\u001b[0m\u001b[0m\n\u001b[1;32m     52\u001b[0m             \u001b[0;32mfor\u001b[0m \u001b[0mwidth\u001b[0m \u001b[0;32min\u001b[0m \u001b[0mrange\u001b[0m\u001b[0;34m(\u001b[0m\u001b[0mseg\u001b[0m\u001b[0;34m.\u001b[0m\u001b[0mshape\u001b[0m\u001b[0;34m[\u001b[0m\u001b[0;36m1\u001b[0m\u001b[0;34m]\u001b[0m\u001b[0;34m)\u001b[0m\u001b[0;34m:\u001b[0m\u001b[0;34m\u001b[0m\u001b[0;34m\u001b[0m\u001b[0m\n",
      "\u001b[0;31mIndexError\u001b[0m: tuple index out of range"
     ]
    }
   ],
   "source": [
    "img = load_nii('../organized_data/HGG/BraTS19_2013_10_1_flair.nii.gz')\n",
    "\n",
    "x = img / img.max()\n",
    "x = np.pad(x, ((1, 1), (1, 1), (0, 0)), mode='constant')\n",
    "\n",
    "windows = []\n",
    "\n",
    "\n",
    "# Parameterizing sliding window\n",
    "for row in range(0, x.shape[0] - 2):\n",
    "    for col in range(0, x.shape[1] - 2):\n",
    "\n",
    "        # Creating sliding window across slice\n",
    "        x_window = x[row : row + 3, col : col + 3, depth - 1 : depth + 2]\n",
    "\n",
    "        windows.append(np.array(x_window).reshape(-1))\n",
    "\n",
    "inp = np.concatenate((\n",
    "                         np.mean(windows, axis=1).reshape(-1, 1), \n",
    "                         np.std(windows, axis=1).reshape(-1, 1), \n",
    "                         np.var(windows, axis=1).reshape(-1, 1),\n",
    "                         np.max(windows, axis=1).reshape(-1, 1),\n",
    "                         np.min(windows, axis=1).reshape(-1, 1),\n",
    "                         np.median(windows, axis=1).reshape(-1, 1)), axis=1)\n",
    "\n",
    "img_predict = svc.predict(inp).reshape(240, 240)\n",
    "\n",
    "\n",
    "seg = load_nii('../organized_data/HGG/BraTS19_2013_10_1_seg.nii.gz')\n",
    "\n",
    "show_tumors(img, seg)\n",
    "show_tumors(img, img_predict)\n",
    "\n",
    "slice_viewer(img, img_predict)"
   ]
  }
 ],
 "metadata": {
  "kernelspec": {
   "display_name": "Python 3",
   "language": "python",
   "name": "python3"
  },
  "language_info": {
   "codemirror_mode": {
    "name": "ipython",
    "version": 3
   },
   "file_extension": ".py",
   "mimetype": "text/x-python",
   "name": "python",
   "nbconvert_exporter": "python",
   "pygments_lexer": "ipython3",
   "version": "3.8.1"
  }
 },
 "nbformat": 4,
 "nbformat_minor": 2
}
