{
 "cells": [
  {
   "cell_type": "code",
   "execution_count": null,
   "metadata": {},
   "outputs": [],
   "source": [
    "import os\n",
    "import torch\n",
    "\n",
    "from Utils.argparsing import get_args\n",
    "from Preprocessing.data_init import organized_data_download\n",
    "from Preprocessing.data_loading import BratsDataset\n",
    "\n",
    "if __name__ == \"__main__\":\n",
    "\n",
    "    data = BratsDataset()"
   ]
  },
  {
   "cell_type": "code",
   "execution_count": null,
   "metadata": {},
   "outputs": [],
   "source": [
    "from sklearn.svm import SVC\n",
    "from sklearn.model_selection import train_test_split\n",
    "from imblearn.under_sampling import RandomUnderSampler\n",
    "import numpy as np"
   ]
  },
  {
   "cell_type": "code",
   "execution_count": null,
   "metadata": {},
   "outputs": [],
   "source": [
    "rus = RandomUnderSampler(sampling_strategy=1, random_state=42)\n",
    "x_res, y_res = rus.fit_resample(data.x, data.y)\n",
    "\n",
    "zeros = 0\n",
    "ones = 0\n",
    "\n",
    "for val in y_res:\n",
    "    if val==0:\n",
    "        zeros+=1\n",
    "    if val==1:\n",
    "        ones+=1      \n",
    "\n",
    "print(zeros)\n",
    "print(ones)"
   ]
  },
  {
   "cell_type": "code",
   "execution_count": null,
   "metadata": {},
   "outputs": [],
   "source": [
    "x_train, x_test, y_train, y_test = train_test_split(x_res, y_res, test_size=0.9, random_state=42)"
   ]
  },
  {
   "cell_type": "code",
   "execution_count": null,
   "metadata": {},
   "outputs": [],
   "source": [
    "svc = SVC(random_state=42)\n",
    "svc.fit(x_train, y_train)\n",
    "predictions = svc.predict(x_test)\n",
    "accuracy = svc.score(x_test, y_test)\n",
    "print(\"SVC Test Accuracy: {:.4f}\".format(accuracy*100))"
   ]
  },
  {
   "cell_type": "code",
   "execution_count": null,
   "metadata": {},
   "outputs": [],
   "source": [
    "zeros = 0\n",
    "ones = 0\n",
    "\n",
    "for val in predictions:\n",
    "    if val==0:\n",
    "        zeros+=1\n",
    "    if val==1:\n",
    "        ones+=1     \n",
    "\n",
    "print(zeros)\n",
    "print(ones)"
   ]
  },
  {
   "cell_type": "code",
   "execution_count": null,
   "metadata": {},
   "outputs": [],
   "source": [
    "y_test_trans = np.transpose(y_test)\n",
    "dice = (2*np.matmul(y_test_trans, predictions)) / (np.sum(y_test + predictions))\n",
    "print('Dice coefficient is %.6f' % dice)"
   ]
  }
 ],
 "metadata": {
  "kernelspec": {
   "display_name": "Python 3",
   "language": "python",
   "name": "python3"
  },
  "language_info": {
   "codemirror_mode": {
    "name": "ipython",
    "version": 3
   },
   "file_extension": ".py",
   "mimetype": "text/x-python",
   "name": "python",
   "nbconvert_exporter": "python",
   "pygments_lexer": "ipython3",
   "version": "3.7.3"
  }
 },
 "nbformat": 4,
 "nbformat_minor": 2
}
